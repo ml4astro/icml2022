{
 "cells": [
  {
   "cell_type": "markdown",
   "id": "38e037ed",
   "metadata": {},
   "source": [
    "This notebook reads the csv export from CMT for accepted papers, and the downloaded camera ready documents:\n",
    "- Papers.txt\n",
    "- CameraReadys folder\n",
    "\n"
   ]
  },
  {
   "cell_type": "markdown",
   "id": "0b55f3f9",
   "metadata": {},
   "source": [
    "## Step I: rename the papers "
   ]
  },
  {
   "cell_type": "code",
   "execution_count": null,
   "id": "49cbc926",
   "metadata": {},
   "outputs": [],
   "source": [
    "from glob import glob\n",
    "import shutil\n",
    "\n",
    "files = glob('CameraReadys 6-60/*')\n",
    "\n",
    "for f in files:\n",
    "    filename = f.split('/')[1].split(\"\\CameraReady\")[0]+'.pdf'\n",
    "    shutil.copyfile(f, '../assets/'+filename)"
   ]
  },
  {
   "cell_type": "markdown",
   "id": "a95a7d34",
   "metadata": {},
   "source": [
    "## Step II: Generate the Table for the Website"
   ]
  },
  {
   "cell_type": "code",
   "execution_count": null,
   "id": "ef74643f",
   "metadata": {},
   "outputs": [],
   "source": [
    "import pandas as pd"
   ]
  },
  {
   "cell_type": "code",
   "execution_count": null,
   "id": "ed6ad58a",
   "metadata": {},
   "outputs": [],
   "source": [
    "papers = pd.read_table('Papers.txt')\n",
    "papers = papers[['Paper ID', 'Paper Title', 'Author Names']].sort_values(by=['Author Names'])"
   ]
  },
  {
   "cell_type": "code",
   "execution_count": null,
   "id": "40e15f2d",
   "metadata": {},
   "outputs": [],
   "source": [
    "papers.iloc[0]"
   ]
  },
  {
   "cell_type": "code",
   "execution_count": null,
   "id": "c40b4dfe",
   "metadata": {},
   "outputs": [],
   "source": [
    "# Generating the HTML table data\n",
    "table = \"<table>\\n\"\n",
    "# Create the table's row data\n",
    "for i in range(len(papers)):\n",
    "    table += \"  <tr>\\n\"\n",
    "    table += \"    <td><a href='{0}'>{1}</a></td>\\n\".format('/icml2022/assets/%d.pdf'%papers['Paper ID'].iloc[i], papers['Paper Title'].iloc[i])\n",
    "    table += \"    <td>{0}</td>\\n\".format(papers['Author Names'].iloc[i])\n",
    "    table += \"  </tr>\\n\"\n",
    "\n",
    "table += \"</table>\""
   ]
  },
  {
   "cell_type": "code",
   "execution_count": null,
   "id": "3757f9ae",
   "metadata": {
    "scrolled": false
   },
   "outputs": [],
   "source": [
    "print(table)"
   ]
  },
  {
   "cell_type": "code",
   "execution_count": null,
   "id": "f84cd3c3",
   "metadata": {},
   "outputs": [],
   "source": []
  }
 ],
 "metadata": {
  "kernelspec": {
   "display_name": "Python 3 (ipykernel)",
   "language": "python",
   "name": "python3"
  },
  "language_info": {
   "codemirror_mode": {
    "name": "ipython",
    "version": 3
   },
   "file_extension": ".py",
   "mimetype": "text/x-python",
   "name": "python",
   "nbconvert_exporter": "python",
   "pygments_lexer": "ipython3",
   "version": "3.10.5"
  }
 },
 "nbformat": 4,
 "nbformat_minor": 5
}
